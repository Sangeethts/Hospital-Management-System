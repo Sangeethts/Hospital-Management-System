{
  "nbformat": 4,
  "nbformat_minor": 0,
  "metadata": {
    "colab": {
      "provenance": [],
      "authorship_tag": "ABX9TyM5KaLL0Gok1oZ2V0owymPB",
      "include_colab_link": true
    },
    "kernelspec": {
      "name": "python3",
      "display_name": "Python 3"
    },
    "language_info": {
      "name": "python"
    }
  },
  "cells": [
    {
      "cell_type": "markdown",
      "metadata": {
        "id": "view-in-github",
        "colab_type": "text"
      },
      "source": [
        "<a href=\"https://colab.research.google.com/github/Sangeethts/Hospital-Management-System/blob/master/rulebasedbot.ipynb\" target=\"_parent\"><img src=\"https://colab.research.google.com/assets/colab-badge.svg\" alt=\"Open In Colab\"/></a>"
      ]
    },
    {
      "cell_type": "code",
      "execution_count": null,
      "metadata": {
        "id": "dBvDdkv7GXB9"
      },
      "outputs": [],
      "source": []
    },
    {
      "cell_type": "code",
      "source": [
        "\n",
        "import re\n",
        "import random\n",
        "\n",
        "class AlienBot:\n",
        "  negative_responses = (\"no\", \"nope\", \"nah\", \"naw\", \"not a chance\", \"sorry\")\n",
        "  exit_commands = (\"quit\", \"pause\", \"exit\", \"goodbye\", \"bye\", \"later\")\n",
        "  random_questions = (\n",
        "        \"Why are you here? \",\n",
        "        \"Are there many humans like you? \",\n",
        "        \"What do you consume for sustenance? \",\n",
        "        \"Is there intelligent life on this planet? \",\n",
        "        \"Does Earth have a leader? \",\n",
        "        \"What planets have you visited? \",\n",
        "        \"What technology do you have on this planet? \"\n",
        "    )\n",
        "\n",
        "  def __init__(self):\n",
        "    self.alienbabble = {'describe_planet_intent': r'.*\\s*your planet.*',\n",
        "                        'answer_why_intent': r'',\n",
        "                        'cubed_intent': r''\n",
        "                            }\n",
        "  def greet(self):\n",
        "    self.name = input(\"Hello there, what's your name? \")\n",
        "\n",
        "    will_help = input(\"Hi \" + str(self.name) + \", I'm jarvis. I'm not from this planet. Will you help me learn about your planet? \")\n",
        "\n",
        "    if will_help in self.negative_responses:\n",
        "      print(\"Ok, have a nice Earth day!\")\n",
        "    return True\n",
        "  def make_exit(self, reply):\n",
        "    for exit_command in self.exit_commands:\n",
        "      if exit_command in reply:\n",
        "        print(\"Ok, have a nice Earth day!\")\n",
        "        return True\n",
        "    return False\n",
        "\n",
        "\n",
        "  def chat(self):\n",
        "    reply = input(random.choice(self.random_questions)).lower()\n",
        "    while not self.make_exit(reply):\n",
        "      reply = input(self.match_reply(reply))\n",
        "\n",
        "  def match_reply(self, reply):\n",
        "    for key, values in self.alienbabble:\n",
        "      for regex_pattern in values:\n",
        "        found_match = re.match(regex_pattern, reply)\n",
        "        if found_match and key == 'describe_planet_intent':\n",
        "          return self.describe_planet_intent()\n",
        "\n",
        "\n",
        "\n",
        "  def describe_planet_intent(self):\n",
        "    return \"Inside .describe_planet_intent()\"\n",
        "\n",
        "  def answer_why_intent(self):\n",
        "    return \"Inside .answer_why_intent()\"\n",
        "\n",
        "  def cubed_intent(self, number):\n",
        "    return \"Inside .cubed_intent()\"\n",
        "  def no_match_intent(self):\n",
        "    return \"Inside .no_match_intent()\"\n",
        "recons_assistance = AlienBot()\n",
        "recons_assistance.greet()\n"
      ],
      "metadata": {
        "id": "tc1uNydFG78u"
      },
      "execution_count": null,
      "outputs": []
    }
  ]
}